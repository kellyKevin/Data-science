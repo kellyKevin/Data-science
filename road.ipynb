{
 "cells": [
  {
   "cell_type": "code",
   "execution_count": null,
   "metadata": {},
   "outputs": [],
   "source": [
    "# Sample data to simulate the road accident dataset\n",
    "import pandas as pd\n",
    "\n",
    "data = pd.DataFrame({\n",
    "    'speed': [50, 60, 70, 80, 90],\n",
    "    'weather': [1, 0, 0, 1, 0],  # 1 for bad weather, 0 for good weather\n",
    "    'road_condition': [1, 1, 0, 0, 1],  # 1 for bad condition, 0 for good condition\n",
    "    'driver_age': [25, 35, 40, 22, 30],\n",
    "    'severity': [2, 3, 1, 2, 4]  # 1 for low severity, 4 for high severity\n",
    "})\n",
    "\n",
    "# Display the dataset\n",
    "print(data)\n",
    "\n",
    "# Continue with the rest of the code\n",
    "X = data[['speed', 'weather', 'road_condition', 'driver_age']]\n",
    "y = data['severity']\n"
   ]
  }
 ],
 "metadata": {
  "language_info": {
   "name": "python"
  }
 },
 "nbformat": 4,
 "nbformat_minor": 2
}
